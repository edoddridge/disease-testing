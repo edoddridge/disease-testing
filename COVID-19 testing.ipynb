{
 "cells": [
  {
   "cell_type": "markdown",
   "metadata": {},
   "source": [
    "# COVID-19 Testing\n",
    "\n",
    "How useful are tests for determining who has a disease? It depends on both the test and how common the disease is in the population being tested.\n",
    "\n",
    "[This article](https://theconversation.com/coronavirus-surprisingly-big-problems-caused-by-small-errors-in-testing-136700) in the Conversation presents a great overview of the counterintuitive results that can occour when testing populations for diseases.\n",
    "\n",
    "\n",
    "When testing the general population, the problem is correctly identifying people who have a rare disease - the true positives can easily be swamped by the false positives. You will find more false positives than true positives.\n",
    "\n",
    "If we instead think about identifying people who are admitted to hospitals, the problem is reversed. Most people have the disease, so the false negatives will swamp the true negatives. You will find more false negatives than true negatives.\n",
    "\n",
    "\n",
    "## Sensitivity and Specificty of a test\n",
    "\n",
    "These two terms, sensitivity and specificity, have very particular meanings. \n",
    "\n",
    "- Sensitivity measures the proportion of true positives that are correctly identified (you have the disease, and the test correctly gives you a positive result)\n",
    "- Specificty measures the proportion of true negatives that are correctly identified (you don't have the disease, and the test correctly gives you a negative result)\n",
    "\n",
    "The Wikipedia article on this [topic](https://en.wikipedia.org/wiki/Sensitivity_and_specificity) is good, but dense.\n",
    "\n",
    "## To use this notebook\n",
    "Click on \"Cell\" in the menu across the top, then, click \"Run All\". You can then adjust the sliders near the bottom of the notebook by clicking on them and dragging them side-to-side."
   ]
  },
  {
   "cell_type": "code",
   "execution_count": 1,
   "metadata": {},
   "outputs": [],
   "source": [
    "import matplotlib.pyplot as plt\n",
    "import ipywidgets\n",
    "import locale\n",
    "locale.setlocale(locale.LC_ALL, '')  # Use '' for auto, or force e.g. to 'en_US.UTF-8'\n",
    "\n",
    "\n",
    "\n",
    "%matplotlib inline"
   ]
  },
  {
   "cell_type": "markdown",
   "metadata": {},
   "source": [
    "Let's define a funtion tht returns the number of true positives, false positives, true negatives, and false negatives for a given set of test parameters."
   ]
  },
  {
   "cell_type": "code",
   "execution_count": 2,
   "metadata": {},
   "outputs": [],
   "source": [
    "def test_results(n_tests, prop_pos, sensitivity, specificity):\n",
    "    TP = n_tests*prop_pos*sensitivity\n",
    "    FN = n_tests*prop_pos*(1-sensitivity)\n",
    "    \n",
    "    TN = n_tests*(1-prop_pos)*specificity\n",
    "    FP = n_tests*(1-prop_pos)*(1-specificity)\n",
    "    \n",
    "    return TP, FP, TN, FN\n",
    "    "
   ]
  },
  {
   "cell_type": "markdown",
   "metadata": {},
   "source": [
    "Now define a function to plot these results."
   ]
  },
  {
   "cell_type": "code",
   "execution_count": 3,
   "metadata": {},
   "outputs": [],
   "source": [
    "def plot_results(n_tests=1e4, prop_pos=0.03, sensitivity=0.938, specificity=0.956):\n",
    "    \n",
    "    TP, FP, TN, FN = test_results(n_tests, prop_pos, sensitivity, specificity)\n",
    "\n",
    "    plt.figure(figsize=(10,10))\n",
    "    # population\n",
    "    plt.barh(0, n_tests, label='Total tests administered = {:,}'.format(n_tests))\n",
    "    plt.text(0.1*n_tests,0, 'Total tests administered {:,}'.format(n_tests), fontsize=20)\n",
    "\n",
    "    # population distribution\n",
    "    plt.barh(-1, n_tests*prop_pos, left=-n_tests*0.025,\n",
    "             label='Have disease = {:n}'.format(round(n_tests*prop_pos)))\n",
    "    if prop_pos >= 0.4:\n",
    "        plt.text(0, -1, 'Have disease \\n{:,}'.format(round(n_tests*prop_pos)), fontsize=20)\n",
    "\n",
    "\n",
    "    plt.barh(-1, n_tests*(1-prop_pos), left=n_tests*prop_pos + n_tests*0.025,\n",
    "             label='Do not have disease = {:n}'.format(round(n_tests*(1-prop_pos))))\n",
    "    if prop_pos < 0.5:\n",
    "        plt.text(0.05*n_tests + n_tests*prop_pos, -1,\n",
    "                 'Do not have disease \\n{:,}'.format(round(n_tests*(1-prop_pos))), fontsize=20)\n",
    "\n",
    "\n",
    "\n",
    "    # test results\n",
    "    plt.barh(-2, TP, left=-0.075*n_tests, label='True positives = {:n}'.format(round(TP)))\n",
    "    plt.text(-0.1*n_tests + TP/2, -1.55, 'TP', fontsize=18)\n",
    "    \n",
    "    plt.barh(-2, FN, left=TP-0.025*n_tests, label='False Negatives = {:n}'.format(round(FN)))\n",
    "    plt.text(TP-0.05*n_tests + FN/2, -1.55, 'FN', fontsize=18)\n",
    "\n",
    "    plt.barh(-2, TN, left=TP+FN + 0.025*n_tests, label='True Negatives = {:n}'.format(round(TN)))\n",
    "    plt.text(TP+FN + TN/2, -1.55, 'TN', fontsize=18)\n",
    "\n",
    "    plt.barh(-2, FP, left=TP+FN+TN + 0.075*n_tests, label='False Positives = {:n}'.format(round(FP)))\n",
    "    plt.text(TP+FN+TN+0.05*n_tests + FP/2, -1.55, 'FP', fontsize=18)\n",
    "\n",
    "    plt.legend(fontsize=20, bbox_to_anchor=(1.,0.5))\n",
    "\n",
    "    \n",
    "    plt.text(0, -2.6,\n",
    "             'Percentage of positive results that are true positives = {:2.2f}%'.format(100*TP/(TP+FP)),\n",
    "             fontsize=18)\n",
    "\n",
    "    plt.text(0, -2.8,\n",
    "             'Percentage of negative results that are true negatives = {:2.2f}%'.format(100*TN/(TN+FN)),\n",
    "             fontsize=18)\n",
    "\n",
    "    \n",
    "    plt.xlim(-0.1*n_tests, 1.15*n_tests)\n",
    "    plt.axis('off')\n",
    "    plt.show()\n"
   ]
  },
  {
   "cell_type": "markdown",
   "metadata": {},
   "source": [
    "Remember these definitions:\n",
    "\n",
    "how many tests are administered: **n_tests**\n",
    "\n",
    "true proportion of population with the disease: **prop_pos**\n",
    "\n",
    "**sensitivity** is the proportion of people with the disease who are correctly identified\n",
    "\n",
    "**specificity** is the proportion of people without the disease who are correctly identified"
   ]
  },
  {
   "cell_type": "code",
   "execution_count": 4,
   "metadata": {},
   "outputs": [
    {
     "data": {
      "application/vnd.jupyter.widget-view+json": {
       "model_id": "8828536e2e97448092d9095fde3f5fbf",
       "version_major": 2,
       "version_minor": 0
      },
      "text/plain": [
       "interactive(children=(IntSlider(value=10000, description='n_tests', max=100000, min=1000), FloatSlider(value=0…"
      ]
     },
     "metadata": {},
     "output_type": "display_data"
    }
   ],
   "source": [
    "ipywidgets.interact(plot_results,\n",
    "                    n_tests=(1000,100000),\n",
    "                    prop_pos=(0.0,1,0.01),\n",
    "                    sensitivity=(0.7,1,0.01),\n",
    "                    specificity=(0.7,1,0.01)\n",
    "                   );"
   ]
  }
 ],
 "metadata": {
  "kernelspec": {
   "display_name": "Python 3",
   "language": "python",
   "name": "python3"
  },
  "language_info": {
   "codemirror_mode": {
    "name": "ipython",
    "version": 3
   },
   "file_extension": ".py",
   "mimetype": "text/x-python",
   "name": "python",
   "nbconvert_exporter": "python",
   "pygments_lexer": "ipython3",
   "version": "3.7.4"
  }
 },
 "nbformat": 4,
 "nbformat_minor": 2
}
